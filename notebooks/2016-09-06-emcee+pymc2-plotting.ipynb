{
 "cells": [
  {
   "cell_type": "markdown",
   "metadata": {},
   "source": [
    "# Astro Hack Week\n",
    "\n",
    "The goal is to create an automated Voigt profile model to high resolution astrophysical spectra.\n",
    "\n",
    "This notebook aims to show the current state."
   ]
  },
  {
   "cell_type": "code",
   "execution_count": 10,
   "metadata": {
    "collapsed": true
   },
   "outputs": [],
   "source": [
    "%matplotlib inline\n",
    "%config InlineBackend.figure_format='retina'\n",
    "\n",
    "from __future__ import absolute_import, division, print_function\n",
    "import matplotlib as mpl\n",
    "from matplotlib import pyplot as plt\n",
    "from matplotlib.pyplot import GridSpec\n",
    "from matplotlib.backends.backend_pdf import PdfPages\n",
    "import seaborn as sns\n",
    "import numpy as np\n",
    "import emcee\n",
    "import copy\n",
    "import corner\n",
    "import pandas as pd\n",
    "import os, sys\n",
    "import warnings\n",
    "import string\n",
    "import astropy\n",
    "import pymc as mc\n",
    "import itertools as it\n",
    "from glob import glob\n",
    "import datetime\n",
    "\n",
    "import barak\n",
    "from barak import absorb\n",
    "from barak import convolve\n",
    "from barak import voigt\n",
    "from barak import pyvpfit"
   ]
  },
  {
   "cell_type": "code",
   "execution_count": 11,
   "metadata": {
    "collapsed": true
   },
   "outputs": [],
   "source": [
    "warnings.simplefilter(\"ignore\")\n",
    "plt.rcParams['figure.figsize'] = (12, 8)\n",
    "sns.set_context('poster', font_scale=1.3)"
   ]
  },
  {
   "cell_type": "code",
   "execution_count": 12,
   "metadata": {
    "collapsed": false
   },
   "outputs": [],
   "source": [
    "atomDict = absorb.readatom('../data/MM_VPFIT_2012-06-05_noiso.dat')\n",
    "pixel_size = 1.3 # km/s per pixel\n",
    "subsample_factor = int(1)"
   ]
  },
  {
   "cell_type": "code",
   "execution_count": 13,
   "metadata": {
    "collapsed": true
   },
   "outputs": [],
   "source": [
    "def VoigtAbsorption(x):\n",
    "    return np.exp(-x)\n",
    "\n",
    "def subsample(wave, subsample_factor=subsample_factor, pixel_size=pixel_size):\n",
    "    # Assumes wave was created by make_constant_dv_wa_scale\n",
    "    # pixel_size is in km/s of the original wave array\n",
    "    begin_size = wave[1] - wave[0]\n",
    "    end_size = wave[-1] - wave[-2]\n",
    "    subwave = barak.sed.make_constant_dv_wa_scale(wave[0] - begin_size/2.0, wave[-1] + end_size, pixel_size/subsample_factor)\n",
    "    return subwave[:len(wave) * subsample_factor]\n",
    "\n",
    "def co_add_from_subsample(subsampled_flux, subsample_factor=subsample_factor):\n",
    "    starting_length = len(subsampled_flux)\n",
    "    intermediate_step = subsampled_flux.reshape(starting_length/subsample_factor, subsample_factor)/float(subsample_factor)\n",
    "    return np.sum(intermediate_step, axis=1)\n",
    "\n",
    "def create_wavelength_chunk(rest_wavelength, z_begin, z_end, pixel_size=1.3, tolerance=2.0):\n",
    "    \"\"\"Returns a wavelength array that covers the redshift range of interest\n",
    "    for a given transition.\n",
    "    pixel_size in km/s\n",
    "    tolerance in Angstroms.\"\"\"\n",
    "    starting = (z_begin + 1 ) * rest_wavelength\n",
    "    ending = (z_end + 1 ) * rest_wavelength\n",
    "    return barak.sed.make_constant_dv_wa_scale(starting - tolerance, ending + tolerance, pixel_size)\n"
   ]
  },
  {
   "cell_type": "code",
   "execution_count": 14,
   "metadata": {
    "collapsed": true
   },
   "outputs": [],
   "source": [
    "onesigmaerror = 0.02\n",
    "#onesigmaerror = np.average(err1)\n",
    "instrument_profile = 5.0 #km/s\n",
    "estimated_instrument_profile = 5.0\n",
    "\n",
    "z_lower = 1.6272486\n",
    "z_upper = 1.6322109\n",
    "b_lower = 2.0\n",
    "b_upper = 10.5\n",
    "N_lower = 9.5\n",
    "N_upper = 13.0\n",
    "line_list = []\n",
    "\n",
    "species = {}\n",
    "species['FeII'] = {}\n",
    "species['FeII']['1608'] = 1608.4507986\n",
    "# species['FeII']['1611'] = 1611.2004037\n",
    "species['FeII']['2382'] = 2382.7640777\n",
    "species['FeII']['2600'] = 2600.1721140\n",
    "species['FeII']['2344'] = 2344.2127470\n",
    "# species['FeII']['2586'] = 2586.6493120\n",
    "# species['AlII'] = {}\n",
    "# species['AlII']['1670'] = 1670.7886100 \n",
    "\n",
    "# species['AlIII'] = {}\n",
    "# species['AlIII']['1862'] = 1862.798581\n",
    "# species['AlIII']['1854'] = 1854.708966\n",
    "\n",
    "# species['MgI'] = {}\n",
    "# species['MgI']['2852'] = 2852.9627970\n",
    "\n",
    "# species['MgII'] = {}\n",
    "# species['MgII']['2796'] = 2796.3537860\n",
    "# species['MgII']['2803'] = 2803.5309820\n"
   ]
  },
  {
   "cell_type": "code",
   "execution_count": 15,
   "metadata": {
    "collapsed": true
   },
   "outputs": [],
   "source": [
    "regions = []\n",
    "wavelength_list = []\n",
    "for specie in species:\n",
    "    for transition in species[specie]:\n",
    "        rest_wavelength = species[specie][transition]\n",
    "        wave = create_wavelength_chunk(rest_wavelength, z_lower, z_upper)\n",
    "        wavelength_list.append(wave)\n",
    "        regions.append([specie, transition, np.average(wave)])\n",
    "        \n",
    "wavelength_list = np.array(wavelength_list)\n",
    "wavelength = np.array(np.hstack(wavelength_list))\n",
    "subwavelength_list = []\n",
    "for cutwave in wavelength_list:\n",
    "    subwavelength_list.append(subsample(cutwave))\n",
    "subwavelength_list = np.array(subwavelength_list)\n",
    "\n",
    "noise_list = np.array([np.random.normal(0.0, onesigmaerror, len(wave)) for wave in wavelength_list])\n",
    "noise = np.hstack(noise_list)\n"
   ]
  },
  {
   "cell_type": "code",
   "execution_count": 16,
   "metadata": {
    "collapsed": true
   },
   "outputs": [],
   "source": [
    "# This is when you want to tie species together with fixed relative column densities\n",
    "species_column_density_correction = {}\n",
    "species_column_density_correction[\"MgI\"] = -1.72\n",
    "species_column_density_correction[\"MgII\"] =  0.08\n",
    "species_column_density_correction[\"AlII\"] = -1.02\n",
    "species_column_density_correction[\"AlIII\"] = -1.62\n",
    "species_column_density_correction[\"SiII\"] =  0.06\n",
    "species_column_density_correction[\"CrII\"] = -1.82\n",
    "species_column_density_correction[\"FeII\"] =  0.00\n",
    "species_column_density_correction[\"MnII\"] = -1.97\n",
    "species_column_density_correction[\"NiII\"] = -1.25\n",
    "species_column_density_correction[\"TiII\"] = -1.54\n",
    "species_column_density_correction[\"ZnII\"] = -1.82"
   ]
  },
  {
   "cell_type": "code",
   "execution_count": 17,
   "metadata": {
    "collapsed": false
   },
   "outputs": [],
   "source": [
    "srdjan = \"\"\"   \n",
    "   FeII     11.17750     1.1468580LA   10.3409LA    -7.225QA      0.00   0.00E+00  0 !   76\n",
    "   FeII     11.83229     1.1469670LC    4.9641LC    -7.225QA      0.00   0.00E+00  0 !   77\n",
    "   FeII     12.19314     1.1469657LD    2.5613LD    -7.225QA      0.00   0.00E+00  0 !   78\n",
    "   FeII     11.52912     1.1469940LF    2.7083LF    -7.225QA      0.00   0.00E+00  0 !   79\n",
    "   FeII     11.42333     1.1470254LG    2.3740LG    -7.225QA      0.00   0.00E+00  0 !   80\n",
    "   FeII     10.64392     1.1470493LH    1.9728LH    -7.225QA      0.00   0.00E+00  0 !   81\n",
    "   FeII     11.92450     1.1471106LI    6.1052LI    -7.225QA      0.00   0.00E+00  0 !   82\n",
    "   FeII     11.35914     1.1471500LJ    3.0018LJ    -7.225QA      0.00   0.00E+00  0 !   83\n",
    "   FeII     11.50212     1.1471766LK    2.5904LK    -7.225QA      0.00   0.00E+00  0 !   84\n",
    "   FeII     10.47751     1.1472015LL    4.5873LL    -7.225QA      0.00   0.00E+00  0 !   85\n",
    "   FeII     11.77955     1.1472415LM    2.9827LM    -7.225QA      0.00   0.00E+00  0 !   86\n",
    "   FeII     11.51390     1.1472864LO    5.2146LO    -7.225QA      0.00   0.00E+00  0 !   87\n",
    "   FeII     10.94020     1.1473725LP   14.7310LP    -7.225QA      0.00   0.00E+00  0 !   88\n",
    "   FeII     11.89655     1.1474161LR    3.6218LR    -7.225QA      0.00   0.00E+00  0 !   89\n",
    "   FeII     11.22069     1.1475825LU    5.1018LU    -7.225QA      0.00   0.00E+00  0 !   90\n",
    "   FeII     10.18773     1.1476086LV    5.5240LV    -7.225QA      0.00   0.00E+00  0 !   91\n",
    "   FeII     11.86228     1.1478073LY    2.3796LY    -7.225QA      0.00   0.00E+00  0 !   92\n",
    "   FeII     10.46826     1.1478320LZ    1.4068LZ    -7.225QA      0.00   0.00E+00  0 !   93\n",
    "   FeII     11.65667     1.1479169AA    6.9106AA    -7.225QA      0.00   0.00E+00  0 !   94\n",
    "   FeII     11.54438     1.1479104AB    1.7705AB    -7.225QA      0.00   0.00E+00  0 !   95\n",
    "   FeII     12.04687     1.1479772AD    3.4630AD    -7.225QA      0.00   0.00E+00  0 !   96\n",
    "   FeII     10.89965     1.1480106AE    4.6401AE    -7.225QA      0.00   0.00E+00  0 !   97\n",
    "   FeII     11.19271     1.1480686AF    2.7318AF    -7.225QA      0.00   0.00E+00  0 !   98\n",
    "   FeII     11.64764     1.1481107AG    3.0581AG    -7.225QA      0.00   0.00E+00  0 !   99\n",
    "   FeII     11.31744     1.1483368CC   15.9645CC    -4.496QA      0.00   0.00E+00  0 !   63\n",
    "   FeII     10.79378     1.1484427CD    4.3089CD    -4.496QA      0.00   0.00E+00  0 !   64\n",
    "   FeII     11.46476     1.1484981CE    6.0623CE    -4.496QA      0.00   0.00E+00  0 !   65\n",
    "   FeII     11.01125     1.1485450CF    8.3700CF    -4.496QA      0.00   0.00E+00  0 !   66\n",
    "   FeII     11.25117     1.1486498CH    9.1910CH    -4.496QA      0.00   0.00E+00  0 !   67\n",
    "   FeII     11.23297     1.1487849CI    4.3267CI    -4.496QA      0.00   0.00E+00  0 !   68\n",
    "   FeII     11.05535     1.1488972CJ    6.5947CJ    -4.496QA      0.00   0.00E+00  0 !   69\n",
    "   FeII     11.91067     1.1490852CM    6.3192CM    -4.496QA      0.00   0.00E+00  0 !   70\n",
    "   FeII     12.57178     1.1490880CN    2.2798CN    -4.496QA      0.00   0.00E+00  0 !   71\n",
    "   FeII     11.87767     1.1491232CO    1.3893CO    -4.496QA      0.00   0.00E+00  0 !   72\n",
    "   FeII     11.99946     1.1491384CR    4.9761CR    -4.496QA      0.00   0.00E+00  0 !   73\n",
    "   FeII     10.37379     1.1492246CS    3.7719CS    -4.496QA      0.00   0.00E+00  0 !   74\n",
    "   FeII     11.10738     1.1493204CU   10.6410CU    -4.496QA      0.00   0.00E+00  0 !   75\n",
    "   FeII     10.88345     1.1494234CV    3.4762CV    -4.496QA      0.00   0.00E+00  0 !   76\n",
    "   FeII     12.08366     1.1494903CY    3.9032CY    -4.496QA      0.00   0.00E+00  0 !   77\n",
    "   FeII     12.09241     1.1495403CZ    3.9433CZ    -4.496QA      0.00   0.00E+00  0 !   78\n",
    "   FeII     11.46621     1.1495795MA    3.5760MA    -4.496QA      0.00   0.00E+00  0 !   79\n",
    "   FeII     11.17768     1.1497143MB    8.2904MB    -4.496QA      0.00   0.00E+00  0 !   80\n",
    "   FeII     12.02913     1.1498162MD    3.5172MD    -4.496QA      0.00   0.00E+00  0 !   81\n",
    "   FeII     10.99304     1.1498186ME    4.9302ME    -4.496QA      0.00   0.00E+00  0 !   82\n",
    "   FeII     11.98416     1.1499112MF    4.4276MF    -4.496QA      0.00   0.00E+00  0 !   83\n",
    "   FeII     11.09972     1.1499513MG    3.9170MG    -4.496QA      0.00   0.00E+00  0 !   84\n",
    "   FeII     10.48134     1.1502300ra    2.2300ra    -0.920qa      0.00   1.00E+00  0 !    1\n",
    "   FeII     10.65566     1.1502512rb    8.1558rb    -0.920QA      0.00   1.00E+00  0 !    2\n",
    "   FeII     10.95794     1.1503526rc    4.2185rc    -0.920QA      0.00   1.00E+00  0 !    3\n",
    "   FeII     10.32692     1.1503954rd    1.0000rd    -0.920QA      0.00   1.00E+00  0 !    4\n",
    "   FeII     11.25157     1.1504147re    3.4995re    -0.920QA      0.00   1.00E+00  0 !    5\n",
    "   FeII     11.31817     1.1504944rf    6.0939rf    -0.920QA      0.00   1.00E+00  0 !    6\n",
    "   FeII     11.27728     1.1505416rh    2.5104rh    -0.920QA      0.00   1.00E+00  0 !    7\n",
    "   FeII     11.37752     1.1505613ri    3.3166ri    -0.920QA      0.00   1.00E+00  0 !    8\n",
    "   FeII     11.52086     1.1506299rj    3.9995rj    -0.920QA      0.00   1.00E+00  0 !    9\n",
    "   FeII     11.47810     1.1506520rk    2.4440rk    -0.920QA      0.00   1.00E+00  0 !   10\n",
    "   FeII     12.02071     1.1506735rl    1.4355rl    -0.920QA      0.00   1.00E+00  0 !   11\n",
    "   FeII     12.23045     1.1506898rm    1.7383rm    -0.920QA      0.00   1.00E+00  0 !   12\n",
    "   FeII     12.47664     1.1507134rn    3.8310rn    -0.920QA      0.00   1.00E+00  0 !   13\n",
    "   FeII     12.55932     1.1507511ro    2.4034ro    -0.920QA      0.00   1.00E+00  0 !   14\n",
    "   FeII     12.74720     1.1507857rp    1.0000rp    -0.920QA      0.00   1.00E+00  0 !   15\n",
    "   FeII     13.36851     1.1507929rq    2.8715rq    -0.920QA      0.00   1.00E+00  0 !   16\n",
    "   FeII     12.55832     1.1508208rr    1.0000rr    -0.920QA      0.00   1.00E+00  0 !   17\n",
    "   FeII     12.69820     1.1508391rs    1.3730rs    -0.920QA      0.00   1.00E+00  0 !   18\n",
    "   FeII     12.96667     1.1508624rt    1.1084rt    -0.920QA      0.00   1.00E+00  0 !   19\n",
    "   FeII     12.76513     1.1508771ru    2.7753ru    -0.920QA      0.00   1.00E+00  0 !   20\n",
    "   FeII     12.47171     1.1509096rv    2.1634rv    -0.920QA      0.00   1.00E+00  0 !   21\n",
    "   FeII     12.73342     1.1509356rw    2.1817rw    -0.920QA      0.00   1.00E+00  0 !   22\n",
    "   FeII     13.31940     1.1509672rx    3.2003rx    -0.920QA      0.00   1.00E+00  0 !   23\n",
    "   FeII     12.58964     1.1509702ry    4.3817ry    -0.920QA      0.00   1.00E+00  0 !   24\n",
    "   FeII     12.98250     1.1510508rz    5.2050rz    -0.920QA      0.00   1.00E+00  0 !   25\n",
    "   FeII     12.30096     1.1510787db    1.0000db    -0.920QA      0.00   1.00E+00  0 !   26\n",
    "   FeII     12.17592     1.1511015dc    1.0000dc    -0.920QA      0.00   1.00E+00  0 !   27\n",
    "   FeII     12.27888     1.1511165dd    2.6517dd    -0.920QA      0.00   1.00E+00  0 !   28\n",
    "   FeII     12.37217     1.1511447de    2.9818de    -0.920QA      0.00   1.00E+00  0 !   29\n",
    "   FeII     12.38620     1.1511685dg    2.2560dg    -0.920QA      0.00   1.00E+00  0 !   30\n",
    "   FeII     12.54494     1.1511939dh    3.7126dh    -0.920QA      0.00   1.00E+00  0 !   31\n",
    "   FeII     12.86855     1.1512189di    3.4890di    -0.920QA      0.00   1.00E+00  0 !   32\n",
    "   FeII     13.06734     1.1512634dj    5.1260dj    -0.920QA      0.00   1.00E+00  0 !   33\n",
    "   FeII     12.73812     1.1512847dk    2.2481dk    -0.920QA      0.00   1.00E+00  0 !   34\n",
    "   FeII     13.11318     1.1513117dl    2.7588dl    -0.920QA      0.00   1.00E+00  0 !   35\n",
    "   FeII     12.99531     1.1513405dm    2.3542dm    -0.920QA      0.00   1.00E+00  0 !   36\n",
    "   FeII     12.48565     1.1513545dn    3.0269dn    -0.920QA      0.00   1.00E+00  0 !   37\n",
    "   FeII     12.38910     1.1513831do    3.9872do    -0.920QA      0.00   1.00E+00  0 !   38\n",
    "   FeII     11.93011     1.1514192dp    5.6347dp    -0.920QA      0.00   1.00E+00  0 !   39\n",
    "   FeII     12.13247     1.1514580dq    4.9248dq    -0.920QA      0.00   1.00E+00  0 !   40\n",
    "   FeII     11.03849     1.1514812dr    1.0000dr    -0.920QA      0.00   1.00E+00  0 !   41\n",
    "   FeII     11.07134     1.1515084ds    1.0000ds    -0.920QA      0.00   1.00E+00  0 !   42\n",
    "   FeII     11.53046     1.1515361dt    4.1873dt    -0.920QA      0.00   1.00E+00  0 !   43\n",
    "   FeII     11.09424     1.1515925du    4.4079du    -0.920QA      0.00   1.00E+00  0 !   44\n",
    "   FeII     10.94804     1.1516208dv    1.6510dv    -0.920QA      0.00   1.00E+00  0 !   45\n",
    "   FeII     10.63109     1.1516630dw    1.2394dw    -0.920QA      0.00   1.00E+00  0 !   46\n",
    "   FeII     11.01413     1.1516361dx   10.7889dx    -0.920QA      0.00   1.00E+00  0 !   47\n",
    "   FeII     10.51808     1.1517528dy    1.0000dy    -0.920QA      0.00   1.00E+00  0 !   48\n",
    "   FeII     11.27135     1.1517689dz    6.1324dz    -0.920QA      0.00   1.00E+00  0 !   49\n",
    " \"\"\"\n",
    "starting_model = []\n",
    "for line in srdjan.splitlines():\n",
    "    line = line.split()\n",
    "    if len(line) > 0:\n",
    "        ion = line[0]\n",
    "        ncol = np.clip(float(line[1]) + 1.5, 7, 13.1)\n",
    "        redshift = float(line[2][:-2])\n",
    "        bval = float(line[3][:-2])\n",
    "        starting_model.append([ion, ncol, redshift + 0.4801, bval])\n",
    "\n",
    "# starting_model"
   ]
  },
  {
   "cell_type": "code",
   "execution_count": 18,
   "metadata": {
    "collapsed": true
   },
   "outputs": [],
   "source": [
    "# starting_model = [\n",
    "# #  ['FeII', 11.47903, 1.6272486, 5.8986],\n",
    "# #  ['FeII', 11.80684, 1.6273509, 4.9074],\n",
    "# #  ['FeII', 12.04197, 1.6274293, 4.2774],\n",
    "#  ['FeII', 12.53468, 1.6274744, 3.7264],\n",
    "#  ['FeII', 11.81651, 1.6275073, 3.0    ],\n",
    "#  ['FeII', 11.8325,  1.6275375, 2.036 ],\n",
    "#  ['FeII', 11.98327, 1.6275711, 4.9331],\n",
    "#  ['FeII', 12.53598, 1.6276858, 3.9991],\n",
    "# #  ['FeII', 12.37782, 1.6277142, 2.9156],\n",
    "# #  ['FeII', 12.04839, 1.6277377, 4.4162],\n",
    "# #  ['FeII', 12.14221, 1.6277991, 4.0641],\n",
    "# #  ['FeII', 12.60239, 1.6278632, 4.2045],\n",
    "# #  ['FeII', 12.4193,  1.6279151, 2.5551],\n",
    "# #  ['FeII', 12.84099, 1.6279648, 3.9983],\n",
    "# #  ['FeII', 11.9488,  1.628003,  1.1738],\n",
    "# #  ['FeII', 12.28364, 1.6280408, 3.766 ],\n",
    "# #  ['FeII', 11.72462, 1.6280943, 1.0938],\n",
    "# #  ['FeII', 11.49827, 1.6281306, 1.0164],\n",
    "# #  ['FeII', 11.08618, 1.6281681, 1.0   ],\n",
    "# #  ['FeII', 12.00147, 1.6282109, 8.2485],\n",
    "# ]\n",
    "true_components = len(starting_model)"
   ]
  },
  {
   "cell_type": "code",
   "execution_count": 19,
   "metadata": {
    "collapsed": false
   },
   "outputs": [],
   "source": [
    "true_component_parameters = []\n",
    "for row in starting_model:\n",
    "    for specie in species:\n",
    "        true_component_parameters.append([specie, row[2], row[3], row[1] + species_column_density_correction[specie]])"
   ]
  },
  {
   "cell_type": "code",
   "execution_count": 20,
   "metadata": {
    "collapsed": false
   },
   "outputs": [],
   "source": [
    "gen_data = {}\n",
    "for region_index, region_wavelength in enumerate(wavelength_list):\n",
    "    gen_data[region_index] = {}\n",
    "    flux = absorb.find_tau(subwavelength_list[region_index], true_component_parameters, atomDict, )[0]\n",
    "    gen_data[region_index] = co_add_from_subsample(convolve.convolve_psf(VoigtAbsorption(flux), \n",
    "                                                                                     instrument_profile)) + noise_list[region_index]\n",
    "total_observed = np.hstack([gen_data[region_index]\n",
    "                            for region_index, region_wavelength in enumerate(wavelength_list)])"
   ]
  },
  {
   "cell_type": "code",
   "execution_count": 21,
   "metadata": {
    "collapsed": false
   },
   "outputs": [
    {
     "data": {
      "image/png": "[encoded data removed]",
      "text/plain": [
       "<matplotlib.figure.Figure at 0x11704bf10>"
      ]
     },
     "metadata": {
      "image/png": {
       "height": 535,
       "width": 791
      }
     },
     "output_type": "display_data"
    }
   ],
   "source": [
    "index = 0\n",
    "plt.plot(wavelength_list[index], gen_data[index])\n",
    "plt.ylim(0, 1.1);"
   ]
  },
  {
   "cell_type": "code",
   "execution_count": 22,
   "metadata": {
    "collapsed": true
   },
   "outputs": [],
   "source": [
    "timestamp = \"astrohack\""
   ]
  },
  {
   "cell_type": "code",
   "execution_count": 107,
   "metadata": {
    "collapsed": false
   },
   "outputs": [],
   "source": [
    "# # Write spectra files\n",
    "# wavelength_buffer = 2.0\n",
    "# lower_labels = []\n",
    "# for x in it.combinations_with_replacement(string.ascii_lowercase, 2):\n",
    "#     lower_labels.append(x[0] + x[1])\n",
    "\n",
    "\n",
    "# for i, region in enumerate(wavelength_list):\n",
    "#     np.savetxt(timestamp + \".\" + str(i) + regions[i][0] + \".ascii\",\n",
    "#                (np.transpose([wavelength_list[i], gen_data[i], np.ones_like(region) * onesigmaerror])))\n"
   ]
  },
  {
   "cell_type": "code",
   "execution_count": 16,
   "metadata": {
    "collapsed": false
   },
   "outputs": [],
   "source": [
    "# # Read spectra\n",
    "# leader_ion = \"FeII\"\n",
    "# wavelength_list = []\n",
    "# observed = []\n",
    "# noise_list = []\n",
    "# for infile in sorted(glob(timestamp + \"*\" + leader_ion + \".ascii\")):\n",
    "#     wav, flx, err = np.loadtxt(infile, unpack=True)\n",
    "#     wavelength_list.append(wav)\n",
    "#     observed.append(flx)\n",
    "#     noise_list.append(err)\n",
    "\n",
    "# err = np.hstack(noise_list)\n",
    "# total_observed = np.hstack(observed)\n",
    "# subwavelength_list = []\n",
    "# for cutwave in wavelength_list:\n",
    "#     subwavelength_list.append(subsample(cutwave))\n",
    "\n",
    "# subwavelength_list = np.array(subwavelength_list)"
   ]
  },
  {
   "cell_type": "code",
   "execution_count": 17,
   "metadata": {
    "collapsed": false
   },
   "outputs": [
    {
     "data": {
      "text/plain": [
       "(1.0, 15.964499999999999)"
      ]
     },
     "execution_count": 17,
     "metadata": {},
     "output_type": "execute_result"
    }
   ],
   "source": [
    "np.min([mod[3] for mod in starting_model]), np.max([mod[3] for mod in starting_model])"
   ]
  },
  {
   "cell_type": "code",
   "execution_count": 6,
   "metadata": {
    "collapsed": false
   },
   "outputs": [
    {
     "ename": "NameError",
     "evalue": "name 'z_upper' is not defined",
     "output_type": "error",
     "traceback": [
      "\u001b[0;31m---------------------------------------------------------------------\u001b[0m",
      "\u001b[0;31mNameError\u001b[0m                           Traceback (most recent call last)",
      "\u001b[0;32m<ipython-input-6-033b4f8f4802>\u001b[0m in \u001b[0;36m<module>\u001b[0;34m()\u001b[0m\n\u001b[1;32m     11\u001b[0m \u001b[0mfit_b_upper\u001b[0m \u001b[0;34m=\u001b[0m \u001b[0;36m15.0\u001b[0m\u001b[0;34m\u001b[0m\u001b[0m\n\u001b[1;32m     12\u001b[0m \u001b[0mfit_z_lower\u001b[0m \u001b[0;34m=\u001b[0m \u001b[0;36m1.626079\u001b[0m\u001b[0;34m\u001b[0m\u001b[0m\n\u001b[0;32m---> 13\u001b[0;31m \u001b[0mfit_z_upper\u001b[0m \u001b[0;34m=\u001b[0m \u001b[0mz_upper\u001b[0m \u001b[0;34m+\u001b[0m \u001b[0mz_tol\u001b[0m\u001b[0;34m\u001b[0m\u001b[0m\n\u001b[0m\u001b[1;32m     14\u001b[0m \u001b[0;31m# Instrument profile\u001b[0m\u001b[0;34m\u001b[0m\u001b[0;34m\u001b[0m\u001b[0m\n\u001b[1;32m     15\u001b[0m \u001b[0mfit_instrument_profile_lower\u001b[0m \u001b[0;34m=\u001b[0m \u001b[0minstrument_profile\u001b[0m \u001b[0;34m-\u001b[0m \u001b[0mip_tol\u001b[0m\u001b[0;34m\u001b[0m\u001b[0m\n",
      "\u001b[0;31mNameError\u001b[0m: name 'z_upper' is not defined"
     ]
    }
   ],
   "source": [
    "#fit_species = \"FeII\"\n",
    "fit_components = 35\n",
    "N_tol = 0.1\n",
    "b_tol = 0.1\n",
    "z_tol = 0.00001\n",
    "ip_tol = 0.5\n",
    "estimated_variables = {}\n",
    "fit_N_lower = 9.5\n",
    "fit_N_upper = 13.5\n",
    "fit_b_lower = 2.00\n",
    "fit_b_upper = 15.0\n",
    "fit_z_lower = 1.626079\n",
    "fit_z_upper = z_upper + z_tol\n",
    "# Instrument profile\n",
    "fit_instrument_profile_lower = instrument_profile - ip_tol\n",
    "fit_instrument_profile_upper = instrument_profile + ip_tol\n",
    "\n",
    "estimated_variables = {}\n",
    "for index, redshift in enumerate(np.linspace(fit_z_lower, fit_z_upper, num=fit_components)):\n",
    "    component = index\n",
    "    estimated_variables[component] = {}\n",
    "    estimated_variables[component]['fit_b'] = mc.Uniform(\"est_b_\" + str(component), fit_b_lower, fit_b_upper)\n",
    "    estimated_variables[component]['fit_z'] = mc.Uniform(\"est_z_\" + str(component), fit_z_lower, fit_z_upper, value=redshift)\n",
    "\n",
    "#estimated_instrument_profile = mc.Uniform(\"est_IP\", fit_instrument_profile_lower, fit_instrument_profile_upper)\n",
    "estimated_instrument_profile = instrument_profile\n",
    "\n",
    "#std deviation of the noise, converted to precision by tau = 1/sigma**2\n",
    "#std_deviation = 1./mc.Uniform(\"std\", 0, 1)**2\n",
    "#std_deviation = 1./(noise**2)\n",
    "std_deviation = 1./(noise**2)"
   ]
  },
  {
   "cell_type": "code",
   "execution_count": 19,
   "metadata": {
    "collapsed": true
   },
   "outputs": [],
   "source": [
    "physical_fit_components = []\n",
    "#for index, redshift in enumerate(np.linspace(fit_z_lower, fit_z_upper, num=fit_components)):\n",
    "for component in range(fit_components):\n",
    "    physical_fit_components.append([estimated_variables[component]['fit_z'],\n",
    "                                    estimated_variables[component]['fit_b']])\n",
    "\n",
    "regions = []\n",
    "for specie in species:\n",
    "    for transition in species[specie]:\n",
    "        rest_wavelength = species[specie][transition]\n",
    "        wave = create_wavelength_chunk(rest_wavelength, z_lower, z_upper)\n",
    "        regions.append([specie, transition, np.average(wave)])\n",
    "\n",
    "fit_component_parameters = []\n",
    "for index in range(fit_components):\n",
    "    component = index\n",
    "    for specie in species:\n",
    "        fit_component_parameters.append([specie,\n",
    "                                         physical_fit_components[component][0],\n",
    "                                         physical_fit_components[component][1],\n",
    "                                         mc.Uniform(\"est_N_\" + specie + \"_\" + str(component),\n",
    "                                                    fit_N_lower,\n",
    "                                                    fit_N_upper)])\n"
   ]
  },
  {
   "cell_type": "code",
   "execution_count": 20,
   "metadata": {
    "collapsed": false
   },
   "outputs": [],
   "source": [
    "@mc.deterministic(trace=False)\n",
    "def generated_flux(regions=len(wavelength_list), \n",
    "                   fit_component_guesses=fit_component_parameters,\n",
    "                   fit_instrument_profile=estimated_instrument_profile):\n",
    "    \"\"\"Creates the absorption for the components\"\"\"\n",
    "    fit_flux = []\n",
    "    for region_index in range(regions):\n",
    "        flux = absorb.find_tau(subwavelength_list[region_index], fit_component_guesses, atomDict, )[0]\n",
    "        fit_flux.append(co_add_from_subsample(convolve.convolve_psf(VoigtAbsorption(flux), fit_instrument_profile)))\n",
    "    return np.hstack(fit_flux)\n"
   ]
  },
  {
   "cell_type": "code",
   "execution_count": 21,
   "metadata": {
    "collapsed": true
   },
   "outputs": [],
   "source": [
    "def generated_flux2(regions=len(wavelength_list), \n",
    "                   fit_component_guesses=fit_component_parameters,\n",
    "                   fit_instrument_profile=estimated_instrument_profile):\n",
    "    \"\"\"Creates the absorption for the components\"\"\"\n",
    "    fit_flux = []\n",
    "    for region_index in range(regions):\n",
    "        flux = absorb.find_tau(subwavelength_list[region_index], fit_component_guesses, atomDict, )[0]\n",
    "        fit_flux.append(co_add_from_subsample(convolve.convolve_psf(VoigtAbsorption(flux), fit_instrument_profile)))\n",
    "    return np.hstack(fit_flux)\n"
   ]
  },
  {
   "cell_type": "code",
   "execution_count": 22,
   "metadata": {
    "collapsed": true
   },
   "outputs": [],
   "source": [
    "potentials = {}\n",
    "for component in range(fit_components - 1):\n",
    "    @mc.potential\n",
    "    def order_restriction(m1=estimated_variables[component]['fit_z'], \n",
    "                          m2=estimated_variables[component + 1]['fit_z']):\n",
    "        if m1 < m2:\n",
    "            return 0\n",
    "        else:\n",
    "            return 1 - np.exp(100000. * (m1 - m2))\n",
    "    potentials[component] = order_restriction\n"
   ]
  },
  {
   "cell_type": "code",
   "execution_count": 23,
   "metadata": {
    "collapsed": true
   },
   "outputs": [],
   "source": [
    "observations = mc.Normal(\"obs\", generated_flux, std_deviation, value=total_observed, observed=True)"
   ]
  },
  {
   "cell_type": "code",
   "execution_count": 24,
   "metadata": {
    "collapsed": true
   },
   "outputs": [],
   "source": [
    "m1 = mc.Model(list(set([x[1] for x in fit_component_parameters]))\n",
    "              + list(set([x[2] for x in fit_component_parameters]))\n",
    "              + list(set([x[3] for x in fit_component_parameters]))\n",
    "              + [std_deviation]\n",
    "              + [potentials[restriction] for restriction in potentials]\n",
    "#               + [estimated_instrument_profile]\n",
    "             )\n"
   ]
  },
  {
   "cell_type": "code",
   "execution_count": 25,
   "metadata": {
    "collapsed": true
   },
   "outputs": [],
   "source": [
    "# map_ = mc.MAP(m1)\n",
    "# first_fit = datetime.datetime.now()\n",
    "# map_.fit()\n",
    "# print(\"Initial fit time: \", str(datetime.datetime.now() - first_fit))"
   ]
  },
  {
   "cell_type": "code",
   "execution_count": 26,
   "metadata": {
    "collapsed": false
   },
   "outputs": [],
   "source": [
    "m_sample = mc.MCMC(m1)"
   ]
  },
  {
   "cell_type": "code",
   "execution_count": 25,
   "metadata": {
    "collapsed": false
   },
   "outputs": [],
   "source": [
    "# starttime = datetime.datetime.now()\n",
    "# print(\"Starting time: \", starttime)\n",
    "# iterations = 100\n",
    "# burn=10\n",
    "# thin=10.0\n",
    "# # %prun\n",
    "# m_sample.sample(iter=iterations, burn=burn, thin=thin)\n",
    "# finishtime = datetime.datetime.now()\n",
    "# sampletime = str(finishtime - starttime)\n",
    "# print(\"\\nTook:\", sampletime, \" to finish\", str(iterations), \"iterations.\")"
   ]
  },
  {
   "cell_type": "code",
   "execution_count": null,
   "metadata": {
    "collapsed": true
   },
   "outputs": [],
   "source": [
    "final_fit = []\n",
    "for row in fit_component_parameters:\n",
    "    final_fit.append([row[0], row[1].value, row[2].value, row[3].value])\n",
    "\n",
    "final_fit = sorted(final_fit, key=lambda x:x[1])\n",
    "\n",
    "fit_flux = {}\n",
    "for region_index, region_wavelength in enumerate(wavelength_list):\n",
    "    fit_flux[region_index] = {}\n",
    "    flux = absorb.find_tau(subwavelength_list[region_index], final_fit, atomDict, )[0]\n",
    "    fit_flux[region_index]['flux'] = co_add_from_subsample(convolve.convolve_psf(VoigtAbsorption(flux),\n",
    "                                                                                 estimated_instrument_profile))"
   ]
  },
  {
   "cell_type": "code",
   "execution_count": null,
   "metadata": {
    "collapsed": false
   },
   "outputs": [],
   "source": [
    "for region_index, region_wavelength in enumerate(wavelength_list):\n",
    "    print(region_index, len(region_wavelength))"
   ]
  },
  {
   "cell_type": "code",
   "execution_count": 25,
   "metadata": {
    "collapsed": true
   },
   "outputs": [],
   "source": [
    "x_formatter = mpl.ticker.ScalarFormatter(useOffset=False)"
   ]
  },
  {
   "cell_type": "code",
   "execution_count": null,
   "metadata": {
    "collapsed": true
   },
   "outputs": [],
   "source": [
    "final_fit"
   ]
  },
  {
   "cell_type": "code",
   "execution_count": null,
   "metadata": {
    "collapsed": false,
    "scrolled": false
   },
   "outputs": [],
   "source": [
    "# pdf = PdfPages(datetime.datetime.now().strftime(\"%Y-%m-%d_%H.%M.%S.flux\") + \".pdf\")\n",
    "for region_index, region_wavelength in enumerate(wavelength_list):\n",
    "    f = plt.figure(figsize=(16, 12))\n",
    "    gs = GridSpec(3, 1, height_ratios=[1, 2, 2])\n",
    "    ax3 = plt.subplot(gs[2])\n",
    "    ax1 = plt.subplot(gs[0], sharex=ax3)\n",
    "    ax2 = plt.subplot(gs[1], sharex=ax3)\n",
    "    ax1.plot(wavelength_list[region_index], (gen_data[region_index] - fit_flux[region_index]['flux']) / onesigmaerror)\n",
    "    ax1.hlines(1.0, wavelength_list[region_index][0], wavelength_list[region_index][-1], color='red', linestyles='-')\n",
    "    ax1.hlines(0, wavelength_list[region_index][0], wavelength_list[region_index][-1], color='black')\n",
    "    ax1.hlines(-1.0, wavelength_list[region_index][0], wavelength_list[region_index][-1], color='red', linestyles='-')\n",
    "    ax2.plot(wavelength_list[region_index], gen_data[region_index], label=\"Observed\")\n",
    "    ax2.plot(wavelength_list[region_index], fit_flux[region_index]['flux'], color='black', label=\"Fit\")\n",
    "    ax2.legend(loc='best')\n",
    "    ax3.plot(wavelength_list[region_index], gen_data[region_index], label=\"Observed\")\n",
    "    for observed_index, row in enumerate(true_component_parameters):\n",
    "        flux = absorb.find_tau(subwavelength_list[region_index], [row], atomDict, )[0]\n",
    "        flux = convolve.convolve_psf(VoigtAbsorption(co_add_from_subsample(flux)), estimated_instrument_profile)\n",
    "        if observed_index == 0:\n",
    "            ax3.plot(wavelength_list[region_index], flux, color=\"red\", label=\"actual-subcomponents\", linewidth=1.0)\n",
    "        else:\n",
    "            ax3.plot(wavelength_list[region_index], flux, color=\"red\", linewidth=1.0)\n",
    "    for final_index, row in enumerate(final_fit):\n",
    "        flux = absorb.find_tau(subwavelength_list[region_index], [row], atomDict, )[0]\n",
    "        flux = convolve.convolve_psf(VoigtAbsorption(co_add_from_subsample(flux)), estimated_instrument_profile)\n",
    "        if final_index == 0:\n",
    "            ax3.plot(wavelength_list[region_index], flux, color=\"green\", label=\"fit-subcomponents\", linewidth=1.0)\n",
    "        else:\n",
    "            ax3.plot(wavelength_list[region_index], flux, color=\"green\", linewidth=1.0)\n",
    "    ax3.plot(wavelength_list[region_index], fit_flux[region_index]['flux'], color='black', label=\"Full fit\")\n",
    "    ax3.legend(loc='best')\n",
    "    ax3.xaxis.set_major_formatter(x_formatter)\n",
    "    xticklabels = ax1.get_xticklabels() + ax2.get_xticklabels()\n",
    "    plt.setp(xticklabels, visible=False)\n",
    "    f.tight_layout()\n",
    "    f.subplots_adjust(hspace=.10)\n",
    "    ax1.set_title(str(true_components) + \"/\" \n",
    "                  + str(fit_components) \n",
    "                  + \" true/fit; \" + str(iterations)+ \"/\" \n",
    "                  + str(burn) + \"/\" + str(thin) + \" itr/brn/thn; time: \" + sampletime)\n",
    "#     pdf.savefig()\n",
    "#     plt.close()\n",
    "# pdf.close()\n"
   ]
  },
  {
   "cell_type": "code",
   "execution_count": null,
   "metadata": {
    "collapsed": false
   },
   "outputs": [],
   "source": [
    "sns.distplot(-m_sample.trace('deviance')[:]/2.0)"
   ]
  },
  {
   "cell_type": "code",
   "execution_count": null,
   "metadata": {
    "collapsed": false
   },
   "outputs": [],
   "source": [
    "trace_dict = []\n",
    "fit_flux = {}\n",
    "final_fit = {}\n",
    "names = [parameter.__name__ for row in sorted(fit_component_parameters) for parameter in row[1:]]\n",
    "[name for name in names]\n",
    "for trace_number in np.arange(-len(m_sample.trace(name)[:]), 0):\n",
    "    final_fit[trace_number] = []\n",
    "    data = [m_sample.trace(name)[trace_number] for name in sorted(names, key=lambda x: x.split('_')[-1])]\n",
    "    final_fit[trace_number].append([['FeII'] + x for x in list([np.array(blah) \n",
    "                                                  for blah in data[x:x+3]] for x in xrange(0, len(data), 3))])\n",
    "    fit_flux[trace_number] = {}\n",
    "    for region_index, region_wavelength in enumerate(wavelength_list):\n",
    "        fit_flux[trace_number][region_index] = {}\n",
    "        flux = absorb.find_tau(subwavelength_list[region_index], final_fit[trace_number][0], atomDict, )[0]\n",
    "        fit_flux[trace_number][region_index]['flux'] = co_add_from_subsample(convolve.convolve_psf(VoigtAbsorption(flux),\n",
    "                                                                                     estimated_instrument_profile))\n",
    "    trace_dict.append(fit_flux)\n"
   ]
  },
  {
   "cell_type": "code",
   "execution_count": null,
   "metadata": {
    "collapsed": false,
    "scrolled": false
   },
   "outputs": [],
   "source": [
    "# pdf = PdfPages(datetime.datetime.now().strftime(\"%Y-%m-%d_%H.%M.%S.flux\") + \".pdf\")\n",
    "\n",
    "\n",
    "for region_index, region_wavelength in enumerate(wavelength_list):\n",
    "    f = plt.figure(figsize=(16, 12))\n",
    "    gs = GridSpec(3, 1, height_ratios=[1, 2, 2])\n",
    "    ax3 = plt.subplot(gs[2])\n",
    "    ax1 = plt.subplot(gs[0], sharex=ax3)\n",
    "    ax2 = plt.subplot(gs[1], sharex=ax3)\n",
    "    ax1.hlines(1.0, wavelength_list[region_index][0], wavelength_list[region_index][-1], color='red', linestyles='-', \n",
    "                 lw=0.5,)\n",
    "    ax1.hlines(0, wavelength_list[region_index][0], wavelength_list[region_index][-1], color='black', \n",
    "                 lw=0.5,)\n",
    "    ax1.hlines(-1.0, wavelength_list[region_index][0], wavelength_list[region_index][-1], color='red', linestyles='-', \n",
    "                 lw=0.5,)\n",
    "    ax2.plot(wavelength_list[region_index], gen_data[region_index], label=\"Observed\",\n",
    "                 alpha=0.8,\n",
    "                 lw=0.5,\n",
    "            )\n",
    "    ax2.legend(loc='best')\n",
    "    ax3.plot(wavelength_list[region_index], gen_data[region_index], label=\"Observed\", \n",
    "                 alpha=0.8,\n",
    "                 lw=0.5,\n",
    "            )\n",
    "    for observed_index, row in enumerate(true_component_parameters):\n",
    "        flux = absorb.find_tau(subwavelength_list[region_index], [row], atomDict, )[0]\n",
    "        flux = convolve.convolve_psf(VoigtAbsorption(co_add_from_subsample(flux)), estimated_instrument_profile)\n",
    "        if observed_index == 0:\n",
    "            ax3.plot(wavelength_list[region_index], flux, color=\"red\", label=\"actual-subcomponents\", \n",
    "                 lw=0.5,)\n",
    "        else:\n",
    "            ax3.plot(wavelength_list[region_index], flux, color=\"red\", \n",
    "                 lw=0.5,)\n",
    "    for trace_number in np.arange(-len(m_sample.trace(name)[:]), 0):\n",
    "        for final_index, row in enumerate(final_fit[trace_number][0]):\n",
    "            flux = absorb.find_tau(subwavelength_list[region_index], [row], atomDict, )[0]\n",
    "            flux = convolve.convolve_psf(VoigtAbsorption(co_add_from_subsample(flux)), estimated_instrument_profile)\n",
    "#             if final_index == 0:\n",
    "#                 ax3.plot(wavelength_list[region_index], flux, color=\"green\", label=\"fit-subcomponents\", linewidth=1.0)\n",
    "#             else:\n",
    "            ax3.plot(wavelength_list[region_index], flux, color=\"green\", lw=0.5, alpha=0.1)\n",
    "        ax1.plot(wavelength_list[region_index], (gen_data[region_index] - fit_flux[trace_number][region_index]['flux']) / onesigmaerror, \n",
    "                 lw=0.5,\n",
    "                 c='k'\n",
    "                )\n",
    "        ax2.plot(wavelength_list[region_index], fit_flux[trace_number][region_index]['flux'], color='black', \n",
    "                 alpha=0.3,\n",
    "                 lw=0.5,\n",
    "#                  label=\"Fit\",\n",
    "                )\n",
    "        ax3.plot(wavelength_list[region_index], fit_flux[trace_number][region_index]['flux'], color='black', \n",
    "                 lw=0.5,)\n",
    "    ax3.legend(loc='best')\n",
    "    ax3.xaxis.set_major_formatter(x_formatter)\n",
    "    xticklabels = ax1.get_xticklabels() + ax2.get_xticklabels()\n",
    "    plt.setp(xticklabels, visible=False)\n",
    "    f.tight_layout()\n",
    "    f.subplots_adjust(hspace=.10)\n",
    "    ax1.set_title(str(true_components) + \"/\" \n",
    "                  + str(fit_components) \n",
    "                  + \" true/fit; \" + str(iterations)+ \"/\" \n",
    "                  + str(burn) + \"/\" + str(thin) + \" itr/brn/thn; time: \" + sampletime)\n",
    "#     pdf.savefig()\n",
    "#     plt.close()\n",
    "# pdf.close()\n"
   ]
  },
  {
   "cell_type": "code",
   "execution_count": null,
   "metadata": {
    "collapsed": true
   },
   "outputs": [],
   "source": []
  },
  {
   "cell_type": "code",
   "execution_count": null,
   "metadata": {
    "collapsed": true
   },
   "outputs": [],
   "source": []
  },
  {
   "cell_type": "markdown",
   "metadata": {},
   "source": [
    "# Enter emcee\n",
    "\n",
    "This idea borrowed from: http://twiecki.github.io/blog/2013/09/23/emcee-pymc/"
   ]
  },
  {
   "cell_type": "code",
   "execution_count": null,
   "metadata": {
    "collapsed": false,
    "scrolled": true
   },
   "outputs": [],
   "source": [
    "m_sample.deviance"
   ]
  },
  {
   "cell_type": "code",
   "execution_count": 26,
   "metadata": {
    "collapsed": false
   },
   "outputs": [],
   "source": [
    "m = copy.copy(m_sample)\n",
    "# m = copy.copy(m1)"
   ]
  },
  {
   "cell_type": "code",
   "execution_count": 27,
   "metadata": {
    "collapsed": true
   },
   "outputs": [],
   "source": [
    "# This is the likelihood function for emcee\n",
    "\n",
    "# names = [x.__name__ for x in sorted(m.stochastics, key=lambda x: x.__name__)]\n",
    "names = sorted([x.__name__ for x in sorted(m.stochastics, key=lambda x: x.__name__)], key=lambda x: x.split('_')[-1])\n",
    "def lnprob(vals): # vals is a vector of parameter values to try\n",
    "    # Set each random variable of the pymc model to the value\n",
    "    # suggested by emcee\n",
    "    for val, name in zip(vals, new_names):\n",
    "        stochastic_dict[name].value = val\n",
    "    try:\n",
    "        m.logp\n",
    "    except mc.ZeroProbability:\n",
    "        return -np.inf\n",
    "#     return m.logp\n",
    "    return -m.deviance/2.0\n",
    "\n",
    "# emcee parameters\n",
    "ndim = len(m.stochastics)"
   ]
  },
  {
   "cell_type": "code",
   "execution_count": 28,
   "metadata": {
    "collapsed": true
   },
   "outputs": [],
   "source": [
    "def sortlist(stochastic):\n",
    "    name = x.__name__\n",
    "    comp = int(name.split('_')[-1])\n",
    "    return (comp, name)"
   ]
  },
  {
   "cell_type": "code",
   "execution_count": 29,
   "metadata": {
    "collapsed": false
   },
   "outputs": [],
   "source": [
    "new_names = sorted([x.__name__ for x in sorted(m.stochastics, key=lambda x: x.__name__)], key=lambda x: int(x.split('_')[-1]))"
   ]
  },
  {
   "cell_type": "code",
   "execution_count": 30,
   "metadata": {
    "collapsed": false
   },
   "outputs": [],
   "source": [
    "temp_list = []\n",
    "for x in m.stochastics:\n",
    "    temp_list.append([x.__name__, x])\n",
    "# valdict = dict(zip(names, vals))\n",
    "stochastic_dict = dict(temp_list)"
   ]
  },
  {
   "cell_type": "code",
   "execution_count": null,
   "metadata": {
    "collapsed": false
   },
   "outputs": [],
   "source": [
    "# Find MAP\n",
    "mc.MAP(m).fit()\n",
    "start = np.empty(ndim)\n",
    "for i, var in enumerate(new_names):\n",
    "    start[i] = stochastic_dict[var].value\n",
    "# for i, var in enumerate(sorted([x.__name__ for x in sorted(m.stochastics, key=lambda x: x.__name__)], key=lambda x: x.split('_')[-1])):\n",
    "#     start[i] = var.value"
   ]
  },
  {
   "cell_type": "code",
   "execution_count": null,
   "metadata": {
    "collapsed": false
   },
   "outputs": [],
   "source": [
    "lnprob(start)"
   ]
  },
  {
   "cell_type": "code",
   "execution_count": null,
   "metadata": {
    "collapsed": false
   },
   "outputs": [],
   "source": [
    "m.logp()"
   ]
  },
  {
   "cell_type": "code",
   "execution_count": null,
   "metadata": {
    "collapsed": false
   },
   "outputs": [],
   "source": [
    "def best_pymc_to_emcee(fit):\n",
    "    whatever = []\n",
    "    for line in fit[0]:\n",
    "        whatever.append(float(line[3]))\n",
    "        whatever.append(float(line[2]))\n",
    "        whatever.append(float(line[1]))\n",
    "    return np.array(whatever)\n",
    "# best_pymc_to_emcee(final_fit[-1])"
   ]
  },
  {
   "cell_type": "code",
   "execution_count": 27,
   "metadata": {
    "collapsed": false
   },
   "outputs": [],
   "source": [
    "# start = best_pymc_to_emcee(final_fit[-1])\n",
    "start = np.array([ 12.00020824,   2.17459937,   1.62625233,   9.60849865,\n",
    "         9.50899535,   1.62624891,  13.13457799,   3.59756899,\n",
    "         1.62789266,  13.49998225,  12.34375237,   1.62806609,\n",
    "        13.03578821,   2.00206281,   1.62823432,  12.50510978,\n",
    "         7.36905659,   1.62842519,  13.19287778,   8.29978642,\n",
    "         1.62859059,  12.9391747 ,  14.99852365,   1.62878887,\n",
    "        12.67210523,   8.36384431,   1.62896931,  13.49845484,\n",
    "         2.65637322,   1.62915454,  12.85593578,   7.30776586,\n",
    "         1.62928786,  12.58462766,   9.01964663,   1.62952279,\n",
    "        12.6494878 ,   2.03320194,   1.62632398,  13.42961347,\n",
    "        14.9774389 ,   1.62969123,  13.3944591 ,   8.04666414,\n",
    "         1.6299727 ,  12.65194855,   2.00019291,   1.63005317,\n",
    "        13.49641621,   7.25817177,   1.63073157,  12.89290875,\n",
    "        14.99952162,   1.63066106,  13.32984245,  14.99902344,\n",
    "         1.63058206,  13.49977253,   5.8769864 ,   1.63082916,\n",
    "        13.49992135,   7.802355  ,   1.63095776,  13.27169984,\n",
    "        12.63034143,   1.63105902,  13.49861764,  14.99452185,\n",
    "         1.63129496,  10.33519022,   9.50395613,   1.626417  ,\n",
    "        13.49928446,  11.42933441,   1.63120473,  13.49893008,\n",
    "         4.57173322,   1.63138312,  13.40566759,  14.99934408,\n",
    "         1.63164288,  13.47221309,   9.08408607,   1.63155691,\n",
    "        12.78672832,   4.21522637,   1.63186999,   9.50971299,\n",
    "         7.99832452,   1.62688394,  12.92935689,  13.76316637,\n",
    "         1.62701154,  13.49992248,  14.69795368,   1.62716286,\n",
    "        13.49977346,  11.91024041,   1.62733376,  13.11208347,\n",
    "         2.97033333,   1.62752415,  12.60782949,   4.39811366,   1.62766335])"
   ]
  },
  {
   "cell_type": "code",
   "execution_count": 32,
   "metadata": {
    "collapsed": false
   },
   "outputs": [],
   "source": [
    "newstart = []\n",
    "for index, thing in enumerate(start):\n",
    "    if not index % 3:\n",
    "        newstart.append(np.average([thing, thing, thing, fit_N_lower, fit_N_upper ]))\n",
    "    if not (index + 1) % 3:\n",
    "        newstart.append(np.average([thing,thing, thing, fit_z_lower, fit_z_upper]))\n",
    "    if not (index + 2) % 3:\n",
    "        newstart.append(np.average([thing, thing, thing, fit_b_lower, fit_b_upper]))\n",
    "# p1[:, 0] < 9.5\n",
    "# p1[:, 0] > 13.0\n",
    "# p1[:, 1] < 3.0\n",
    "# p1[:, 1] > 7.5\n",
    "# p1[:, 2] < 1.6272486\n",
    "# p1[:, 2] > 1.6282109\n",
    "newstart = np.array(newstart)"
   ]
  },
  {
   "cell_type": "code",
   "execution_count": 33,
   "metadata": {
    "collapsed": false
   },
   "outputs": [
    {
     "data": {
      "text/plain": [
       "-1399921388.0013247"
      ]
     },
     "execution_count": 33,
     "metadata": {},
     "output_type": "execute_result"
    }
   ],
   "source": [
    "lnprob(newstart)"
   ]
  },
  {
   "cell_type": "code",
   "execution_count": 34,
   "metadata": {
    "collapsed": true
   },
   "outputs": [],
   "source": [
    "components = 35"
   ]
  },
  {
   "cell_type": "code",
   "execution_count": 35,
   "metadata": {
    "collapsed": false
   },
   "outputs": [
    {
     "name": "stdout",
     "output_type": "stream",
     "text": [
      "320\n"
     ]
    }
   ],
   "source": [
    "nwalkers = 320\n",
    "p1 = emcee.utils.sample_ball(newstart, np.array(components * [.04, 0.05, 0.00001]), size=nwalkers)\n",
    "arg = []\n",
    "for walker in p1:\n",
    "    arg.append(lnprob(walker))\n",
    "print(np.sum(np.isfinite(arg)))"
   ]
  },
  {
   "cell_type": "code",
   "execution_count": 36,
   "metadata": {
    "collapsed": false
   },
   "outputs": [
    {
     "data": {
      "text/plain": [
       "-1409117012.328521"
      ]
     },
     "execution_count": 36,
     "metadata": {},
     "output_type": "execute_result"
    }
   ],
   "source": [
    "lnprob(p1[2])"
   ]
  },
  {
   "cell_type": "code",
   "execution_count": null,
   "metadata": {
    "collapsed": true
   },
   "outputs": [],
   "source": [
    "# components = 5\n",
    "# zvals = np.random.rand(nwalkers * components) * (z_upper - z_lower) + z_lower\n",
    "# bvals = np.random.rand(nwalkers * components) * (b_upper - b_lower) + b_lower\n",
    "# nvals = np.random.rand(nwalkers * components) * (N_upper - N_lower) + N_lower\n",
    "\n",
    "# p0 = np.column_stack([nvals, bvals, zvals])"
   ]
  },
  {
   "cell_type": "code",
   "execution_count": null,
   "metadata": {
    "collapsed": false
   },
   "outputs": [],
   "source": [
    "# [item for sublist in list([nvals[i], bvals[i], zvals[i]] for i in range(len(zvals))) for item in sublist]\n",
    "# allvariables = [item for sublist in list([nvals[i], bvals[i], zvals[i]] for i in range(len(zvals))) for item in sublist]"
   ]
  },
  {
   "cell_type": "code",
   "execution_count": null,
   "metadata": {
    "collapsed": false
   },
   "outputs": [],
   "source": [
    "# p0 = [allvariables[ix:ix + 3 * components] for ix in xrange(0, len(allvariables), 3 * components)]"
   ]
  },
  {
   "cell_type": "code",
   "execution_count": 36,
   "metadata": {
    "collapsed": true
   },
   "outputs": [],
   "source": [
    "# instantiate sampler passing in the pymc likelihood function\n",
    "sampler = emcee.EnsembleSampler(nwalkers, ndim, lnprob)"
   ]
  },
  {
   "cell_type": "code",
   "execution_count": 37,
   "metadata": {
    "collapsed": true
   },
   "outputs": [],
   "source": [
    "from tqdm import tqdm"
   ]
  },
  {
   "cell_type": "code",
   "execution_count": null,
   "metadata": {
    "collapsed": false
   },
   "outputs": [],
   "source": [
    "# burn-in\n",
    "pos, prob, state = sampler.run_mcmc(p1, 1000)\n",
    "sampler.reset()"
   ]
  },
  {
   "cell_type": "code",
   "execution_count": null,
   "metadata": {
    "collapsed": true
   },
   "outputs": [],
   "source": [
    "final_position = sampler.chain[:, sampler.iterations - 1, :]"
   ]
  },
  {
   "cell_type": "code",
   "execution_count": 38,
   "metadata": {
    "collapsed": true
   },
   "outputs": [],
   "source": [
    "f = open(\"chain.dat\", \"w\")\n",
    "f.close()"
   ]
  },
  {
   "cell_type": "code",
   "execution_count": 39,
   "metadata": {
    "collapsed": true
   },
   "outputs": [],
   "source": [
    "multisampler = emcee.EnsembleSampler(nwalkers, ndim, lnprob, threads=6)"
   ]
  },
  {
   "cell_type": "code",
   "execution_count": null,
   "metadata": {
    "collapsed": false
   },
   "outputs": [
    {
     "name": "stderr",
     "output_type": "stream",
     "text": [
      "  0%|          | 5/50000 [00:16<47:44:54,  3.44s/it]"
     ]
    }
   ],
   "source": [
    "iterations = 50000\n",
    "count = 0\n",
    "for result in tqdm(multisampler.sample(p1, iterations=iterations, storechain=False), total=iterations):\n",
    "    count += 1\n",
    "    if count % 100 == 0:\n",
    "        position = result[0]\n",
    "        f = open(\"chain.dat\", \"a\")\n",
    "        for k in range(position.shape[0]):\n",
    "            f.write(\"{0:5d} {1:s}\\n\".format(k, \" \".join([str(x) for x in position[k]])))\n",
    "        f.close()"
   ]
  },
  {
   "cell_type": "code",
   "execution_count": 68,
   "metadata": {
    "collapsed": false
   },
   "outputs": [
    {
     "data": {
      "text/plain": [
       "array([ 0.13476263,  0.19448698,  0.16998469,  0.14088821,  0.11026034,\n",
       "        0.11638591,  0.06125574,  0.09341501,  0.11332312,  0.05972435,\n",
       "        0.05053599,  0.12710567,  0.18070444,  0.09647779,  0.11332312,\n",
       "        0.14548239,  0.17611026,  0.16845329,  0.14548239,  0.11026034,\n",
       "        0.15467075,  0.16539051,  0.15313936,  0.1179173 ,  0.13323124,\n",
       "        0.13323124,  0.13169985,  0.16385911,  0.12863706,  0.06431853,\n",
       "        0.16998469,  0.11026034,  0.09954058,  0.16232772,  0.15467075,\n",
       "        0.13629403,  0.08728943,  0.13476263,  0.13016845,  0.15926493,\n",
       "        0.16845329,  0.09035222,  0.18683002,  0.12557427,  0.13935681,\n",
       "        0.1179173 ,  0.12251149,  0.13782542,  0.16385911,  0.14548239,\n",
       "        0.13476263,  0.07503828,  0.12863706,  0.13629403,  0.14854518,\n",
       "        0.15467075,  0.03981623,  0.13782542,  0.16385911,  0.14548239,\n",
       "        0.14548239,  0.05972435,  0.143951  ,  0.14088821,  0.18683002,\n",
       "        0.1424196 ,  0.1424196 ,  0.05053599,  0.14854518,  0.15926493,\n",
       "        0.17917305,  0.1424196 ,  0.05206738,  0.15313936,  0.143951  ,\n",
       "        0.16232772,  0.15313936,  0.16539051,  0.08422665,  0.17764165,\n",
       "        0.13323124,  0.15926493,  0.10107198,  0.17151608,  0.16385911,\n",
       "        0.12710567,  0.15620214,  0.13169985,  0.12098009,  0.11179173,\n",
       "        0.12404288,  0.09188361,  0.15160796,  0.06431853,  0.04287902,\n",
       "        0.13476263,  0.13629403,  0.10566616,  0.15007657,  0.15926493,\n",
       "        0.15313936,  0.15926493,  0.04134763,  0.13476263,  0.143951  ,\n",
       "        0.08269525,  0.16079632,  0.0474732 ,  0.10260337,  0.10872894,\n",
       "        0.12863706,  0.143951  ,  0.07810107,  0.143951  ,  0.13935681,\n",
       "        0.1424196 ,  0.08575804,  0.14854518,  0.13935681,  0.09800919,\n",
       "        0.05359877,  0.15620214,  0.15007657,  0.17764165,  0.18223583,\n",
       "        0.07656968,  0.10413476,  0.13782542,  0.08575804,  0.143951  ,\n",
       "        0.11638591,  0.09954058,  0.10107198,  0.16079632,  0.14854518,\n",
       "        0.16998469,  0.13169985,  0.16539051,  0.04594181,  0.0704441 ,\n",
       "        0.20061256,  0.1424196 ,  0.15773354,  0.07656968,  0.15007657,\n",
       "        0.1669219 ,  0.08269525,  0.10719755,  0.11638591,  0.143951  ,\n",
       "        0.15620214,  0.11332312,  0.09188361,  0.08575804,  0.17457887,\n",
       "        0.07350689,  0.12098009,  0.14088821,  0.11026034,  0.13169985,\n",
       "        0.1914242 ,  0.15160796,  0.18529862,  0.06278714,  0.06278714,\n",
       "        0.10566616,  0.03675345,  0.17611026,  0.12251149,  0.16998469,\n",
       "        0.1914242 ,  0.14088821,  0.14854518,  0.05206738,  0.15620214,\n",
       "        0.15007657,  0.12251149,  0.1898928 ,  0.16998469,  0.12863706,\n",
       "        0.20980092,  0.13935681,  0.14088821,  0.15467075,  0.11332312,\n",
       "        0.16079632,  0.15773354,  0.07350689,  0.07810107,  0.13476263,\n",
       "        0.14548239,  0.18070444,  0.14088821,  0.14854518,  0.13476263,\n",
       "        0.06278714,  0.06125574,  0.17304747,  0.04900459,  0.16998469,\n",
       "        0.08728943,  0.10719755,  0.1424196 ,  0.143951  ,  0.143951  ,\n",
       "        0.04594181,  0.09647779,  0.07963247,  0.17304747,  0.07503828,\n",
       "        0.17304747,  0.16232772,  0.16385911,  0.12863706,  0.12098009,\n",
       "        0.17764165,  0.06584992,  0.10872894,  0.08269525,  0.12404288,\n",
       "        0.10107198,  0.13169985,  0.1669219 ,  0.08269525,  0.09341501,\n",
       "        0.16998469,  0.15007657,  0.08728943,  0.13629403,  0.07350689,\n",
       "        0.16232772,  0.12710567,  0.0949464 ,  0.15926493,  0.0704441 ,\n",
       "        0.14088821,  0.143951  ,  0.05819296,  0.0704441 ,  0.1424196 ,\n",
       "        0.09035222,  0.05819296,  0.15007657,  0.04900459,  0.13629403,\n",
       "        0.1424196 ,  0.1669219 ,  0.143951  ,  0.18376723,  0.08116386,\n",
       "        0.17611026,  0.07350689,  0.13476263,  0.1898928 ,  0.13016845,\n",
       "        0.16998469,  0.11485452,  0.1898928 ,  0.15313936,  0.1194487 ,\n",
       "        0.03062787,  0.06125574,  0.17457887,  0.1179173 ,  0.15620214,\n",
       "        0.09035222,  0.13323124,  0.13323124,  0.16079632,  0.08269525,\n",
       "        0.11485452,  0.0704441 ,  0.08422665,  0.15926493,  0.08269525,\n",
       "        0.18683002,  0.09035222,  0.06125574,  0.05053599,  0.17764165,\n",
       "        0.08269525,  0.16232772,  0.04594181,  0.1424196 ,  0.03369066,\n",
       "        0.10107198,  0.15926493,  0.1179173 ,  0.1424196 ,  0.12251149,\n",
       "        0.09035222,  0.18529862,  0.17304747,  0.07810107,  0.12404288,\n",
       "        0.16232772,  0.13935681,  0.14701378,  0.12404288,  0.04441041,\n",
       "        0.13782542,  0.1194487 ,  0.13629403,  0.05206738,  0.16845329,\n",
       "        0.09188361,  0.17611026,  0.15926493,  0.14701378,  0.07963247,\n",
       "        0.11026034,  0.10566616,  0.14548239,  0.13476263,  0.12404288,\n",
       "        0.14701378,  0.11638591,  0.13169985,  0.10260337,  0.08728943])"
      ]
     },
     "execution_count": 68,
     "metadata": {},
     "output_type": "execute_result"
    }
   ],
   "source": [
    "multisampler.acceptance_fraction"
   ]
  },
  {
   "cell_type": "code",
   "execution_count": 70,
   "metadata": {
    "collapsed": false
   },
   "outputs": [
    {
     "data": {
      "text/plain": [
       "array([], shape=(320, 0, 105), dtype=float64)"
      ]
     },
     "execution_count": 70,
     "metadata": {},
     "output_type": "execute_result"
    }
   ],
   "source": [
    "final_position = multisampler.chain[:, :]\n",
    "final_position"
   ]
  },
  {
   "cell_type": "code",
   "execution_count": null,
   "metadata": {
    "collapsed": true
   },
   "outputs": [],
   "source": []
  },
  {
   "cell_type": "code",
   "execution_count": null,
   "metadata": {
    "collapsed": true
   },
   "outputs": [],
   "source": [
    "iterations = 100000\n",
    "with open('emcee-chain.txt', 'a') as file_handle:\n",
    "    for result in tqdm(sampler.sample(final_position, iterations=iterations), total=iterations):\n",
    "        if count % 10 == 0:\n",
    "            print(result[0], file=file_handle)"
   ]
  },
  {
   "cell_type": "code",
   "execution_count": null,
   "metadata": {
    "collapsed": false
   },
   "outputs": [],
   "source": [
    "# mfinish = mc.MCMC(m)\n",
    "# mfinish.sample(1) # This call is to set up the chains"
   ]
  },
  {
   "cell_type": "code",
   "execution_count": null,
   "metadata": {
    "collapsed": false
   },
   "outputs": [],
   "source": [
    "print(\"Mean acceptance fraction: {0:.3f}\"\n",
    "                .format(np.mean(sampler.acceptance_fraction)))"
   ]
  },
  {
   "cell_type": "code",
   "execution_count": null,
   "metadata": {
    "collapsed": false
   },
   "outputs": [],
   "source": [
    "sampler.chain[:, -1, :].shape"
   ]
  },
  {
   "cell_type": "code",
   "execution_count": null,
   "metadata": {
    "collapsed": false
   },
   "outputs": [],
   "source": [
    "final_position = sampler.chain[:, -1, :]"
   ]
  },
  {
   "cell_type": "code",
   "execution_count": null,
   "metadata": {
    "collapsed": false
   },
   "outputs": [],
   "source": [
    "sampler.chain[0, 0, :].shape"
   ]
  },
  {
   "cell_type": "code",
   "execution_count": null,
   "metadata": {
    "collapsed": false
   },
   "outputs": [],
   "source": [
    "fig, axes = plt.subplots(nrows=len(sampler.chain[0, 0, :]), sharex=True, figsize=(16, 16))\n",
    "for parameter_indx, ax in enumerate(axes):\n",
    "    ax.plot(sampler.chain[-1, :, parameter_indx])\n",
    "fig.tight_layout()\n",
    "fig.subplots_adjust(hspace=.0);"
   ]
  },
  {
   "cell_type": "code",
   "execution_count": null,
   "metadata": {
    "collapsed": false
   },
   "outputs": [],
   "source": [
    "parameter_indx = 4\n",
    "plt.plot(sampler.chain[0, :, parameter_indx]);"
   ]
  },
  {
   "cell_type": "code",
   "execution_count": null,
   "metadata": {
    "collapsed": false
   },
   "outputs": [],
   "source": [
    "sampler.chain[:, :, :].shape"
   ]
  },
  {
   "cell_type": "code",
   "execution_count": null,
   "metadata": {
    "collapsed": false
   },
   "outputs": [],
   "source": [
    "trace_dict = []\n",
    "fit_flux = {}\n",
    "final_fit = {}\n",
    "# names = [parameter.__name__ for row in sorted(fit_component_parameters) for parameter in row[1:]]\n",
    "for trace_number, endstate in enumerate(sampler.chain[:, -1, :]\n",
    "#                                         sampler.chain[:, -1]\n",
    "                                       ):\n",
    "    final_fit[trace_number] = []\n",
    "#     data = [m_sample.trace(name)[trace_number] for name in sorted(names, key=lambda x: x.split('_')[-1])]\n",
    "    final_fit[trace_number].append([['FeII'] + x for x in list([np.array(blah) \n",
    "                                                                for blah in endstate[[x+2, x+1, x]]] \n",
    "                                                                   for x in xrange(0, len(endstate), 3))])\n",
    "    fit_flux[trace_number] = {}\n",
    "    for region_index, region_wavelength in enumerate(wavelength_list):\n",
    "        fit_flux[trace_number][region_index] = {}\n",
    "        flux = absorb.find_tau(subwavelength_list[region_index], final_fit[trace_number][0], atomDict, )[0]\n",
    "        fit_flux[trace_number][region_index]['flux'] = co_add_from_subsample(convolve.convolve_psf(VoigtAbsorption(flux),\n",
    "                                                                                     estimated_instrument_profile))\n",
    "    trace_dict.append(fit_flux)\n"
   ]
  },
  {
   "cell_type": "code",
   "execution_count": null,
   "metadata": {
    "collapsed": false,
    "scrolled": false
   },
   "outputs": [],
   "source": [
    "# pdf = PdfPages(datetime.datetime.now().strftime(\"%Y-%m-%d_%H.%M.%S.flux\") + \".pdf\")\n",
    "\n",
    "\n",
    "for region_index, region_wavelength in enumerate(wavelength_list):\n",
    "    f = plt.figure(figsize=(16, 12))\n",
    "    gs = GridSpec(3, 1, height_ratios=[1, 2, 2])\n",
    "    ax3 = plt.subplot(gs[2])\n",
    "    ax1 = plt.subplot(gs[0], sharex=ax3)\n",
    "    ax2 = plt.subplot(gs[1], sharex=ax3)\n",
    "    ax1.hlines(1.0, wavelength_list[region_index][0], wavelength_list[region_index][-1], color='red', linestyles='-', \n",
    "                 lw=0.5,)\n",
    "    ax1.hlines(0, wavelength_list[region_index][0], wavelength_list[region_index][-1], color='black', \n",
    "                 lw=0.5,)\n",
    "    ax1.hlines(-1.0, wavelength_list[region_index][0], wavelength_list[region_index][-1], color='red', linestyles='-', \n",
    "                 lw=0.5,)\n",
    "    ax2.plot(wavelength_list[region_index], gen_data[region_index], label=\"Observed\",\n",
    "                 alpha=0.8,\n",
    "                 lw=0.5,\n",
    "            )\n",
    "    ax2.legend(loc='best')\n",
    "    ax3.plot(wavelength_list[region_index], gen_data[region_index], label=\"Observed\", \n",
    "                 alpha=0.8,\n",
    "                 lw=0.5,\n",
    "            )\n",
    "    for observed_index, row in enumerate(true_component_parameters):\n",
    "        flux = absorb.find_tau(subwavelength_list[region_index], [row], atomDict, )[0]\n",
    "        flux = convolve.convolve_psf(VoigtAbsorption(co_add_from_subsample(flux)), estimated_instrument_profile)\n",
    "        if observed_index == 0:\n",
    "            ax3.plot(wavelength_list[region_index], flux, color=\"red\", label=\"actual-subcomponents\", \n",
    "                 lw=0.5,)\n",
    "        else:\n",
    "            ax3.plot(wavelength_list[region_index], flux, color=\"red\", \n",
    "                 lw=0.5,)\n",
    "    for trace_number, endstate in enumerate(sampler.chain[:, -1]):\n",
    "        for final_index, row in enumerate(final_fit[trace_number][0]):\n",
    "            flux = absorb.find_tau(subwavelength_list[region_index], [row], atomDict, )[0]\n",
    "            flux = convolve.convolve_psf(VoigtAbsorption(co_add_from_subsample(flux)), estimated_instrument_profile)\n",
    "#             if final_index == 0:\n",
    "#                 ax3.plot(wavelength_list[region_index], flux, color=\"green\", label=\"fit-subcomponents\", linewidth=1.0)\n",
    "#             else:\n",
    "            ax3.plot(wavelength_list[region_index], flux, color=\"green\", lw=0.5, alpha=0.1)\n",
    "        ax1.plot(wavelength_list[region_index], (gen_data[region_index] - fit_flux[trace_number][region_index]['flux']) / onesigmaerror, \n",
    "                 lw=0.5,\n",
    "                 c='k'\n",
    "                )\n",
    "        ax2.plot(wavelength_list[region_index], fit_flux[trace_number][region_index]['flux'], color='black', \n",
    "                 alpha=0.1,\n",
    "                 lw=0.5,\n",
    "#                  label=\"Fit\",\n",
    "                )\n",
    "        ax3.plot(wavelength_list[region_index], fit_flux[trace_number][region_index]['flux'], color='black', \n",
    "                 lw=0.5,\n",
    "                 alpha=0.1,\n",
    "                )\n",
    "    ax3.legend(loc='best')\n",
    "    ax3.xaxis.set_major_formatter(x_formatter)\n",
    "    xticklabels = ax1.get_xticklabels() + ax2.get_xticklabels()\n",
    "    plt.setp(xticklabels, visible=False)\n",
    "    f.tight_layout()\n",
    "    f.subplots_adjust(hspace=.10)\n",
    "    ax1.set_title(str(true_components) + \"/\" \n",
    "                  + str(fit_components) \n",
    "                  + \" true/fit; \" + str(iterations)+ \"/\" \n",
    "                  + str(burn) + \"/\" + str(thin) + \" itr/brn/thn; time: \" + sampletime)\n",
    "#     pdf.savefig()\n",
    "#     plt.close()\n",
    "# pdf.close()\n"
   ]
  },
  {
   "cell_type": "code",
   "execution_count": null,
   "metadata": {
    "collapsed": true
   },
   "outputs": [],
   "source": [
    "sampler.iterations"
   ]
  },
  {
   "cell_type": "code",
   "execution_count": null,
   "metadata": {
    "collapsed": true
   },
   "outputs": [],
   "source": []
  },
  {
   "cell_type": "code",
   "execution_count": 147,
   "metadata": {
    "collapsed": true
   },
   "outputs": [],
   "source": [
    "x_formatter = mpl.ticker.ScalarFormatter(useOffset=False)"
   ]
  },
  {
   "cell_type": "code",
   "execution_count": 140,
   "metadata": {
    "collapsed": true
   },
   "outputs": [],
   "source": [
    "def best_pymc_to_emcee(fit):\n",
    "    whatever = []\n",
    "    for line in fit[0]:\n",
    "        whatever.append(float(line[3]))\n",
    "        whatever.append(float(line[2]))\n",
    "        whatever.append(float(line[1]))\n",
    "    return np.array(whatever)\n",
    "# best_pymc_to_emcee(final_fit[-1])"
   ]
  },
  {
   "cell_type": "markdown",
   "metadata": {
    "collapsed": true
   },
   "source": [
    "# Plots"
   ]
  },
  {
   "cell_type": "code",
   "execution_count": 26,
   "metadata": {
    "collapsed": true
   },
   "outputs": [],
   "source": [
    "x_formatter = mpl.ticker.ScalarFormatter(useOffset=False)"
   ]
  },
  {
   "cell_type": "code",
   "execution_count": null,
   "metadata": {
    "collapsed": true
   },
   "outputs": [],
   "source": [
    "def read_chain(infile):\n",
    "    full_model = []\n",
    "    with open(infile, 'r') as filehandle:\n",
    "        for line in filehandle.read().splitlines():\n",
    "            line = line[5:].split()\n",
    "            if len(line) > 0:\n",
    "                fitme = np.array([float(x) for x in line])\n",
    "                full_model.append(fitme)\n",
    "    return full_model"
   ]
  },
  {
   "cell_type": "code",
   "execution_count": 79,
   "metadata": {
    "collapsed": true
   },
   "outputs": [],
   "source": [
    "!tail -n 120 chain.dat > current.dat"
   ]
  },
  {
   "cell_type": "code",
   "execution_count": 80,
   "metadata": {
    "collapsed": false
   },
   "outputs": [],
   "source": [
    "full_model = read_chain(\"current.dat\")"
   ]
  },
  {
   "cell_type": "code",
   "execution_count": 81,
   "metadata": {
    "collapsed": false
   },
   "outputs": [],
   "source": [
    "trace_dict = []\n",
    "fit_flux = {}\n",
    "final_fit = {}\n",
    "# names = [parameter.__name__ for row in sorted(fit_component_parameters) for parameter in row[1:]]\n",
    "for trace_number, endstate in enumerate(full_model\n",
    "#                                         sampler.chain[:, -1, :]\n",
    "                                       ):\n",
    "    final_fit[trace_number] = []\n",
    "#     data = [m_sample.trace(name)[trace_number] for name in sorted(names, key=lambda x: x.split('_')[-1])]\n",
    "    final_fit[trace_number].append([['FeII'] + x for x in list([np.array(blah) \n",
    "                                                                for blah in endstate[[ x+2, x+1, x,]]] \n",
    "                                                                   for x in xrange(0, len(endstate), 3))])\n",
    "    fit_flux[trace_number] = {}\n",
    "    for region_index, region_wavelength in enumerate(wavelength_list):\n",
    "        fit_flux[trace_number][region_index] = {}\n",
    "        flux = absorb.find_tau(subwavelength_list[region_index], final_fit[trace_number][0], atomDict, )[0]\n",
    "        fit_flux[trace_number][region_index]['flux'] = co_add_from_subsample(convolve.convolve_psf(VoigtAbsorption(flux),\n",
    "                                                                                     estimated_instrument_profile))\n",
    "    trace_dict.append(fit_flux)\n"
   ]
  },
  {
   "cell_type": "code",
   "execution_count": 82,
   "metadata": {
    "collapsed": false,
    "scrolled": false
   },
   "outputs": [],
   "source": [
    "pdf = PdfPages(datetime.datetime.now().strftime(\"%Y-%m-%d_%H.%M.%S.flux\") + \".pdf\")\n",
    "for region_index, region_wavelength in enumerate(wavelength_list):\n",
    "    f = plt.figure(figsize=(16, 12))\n",
    "    gs = GridSpec(4, 1, height_ratios=[1, 2, 2, 2])\n",
    "    ax4 = plt.subplot(gs[3])\n",
    "    ax3 = plt.subplot(gs[2], sharex=ax4)\n",
    "    ax1 = plt.subplot(gs[0], sharex=ax4)\n",
    "    ax2 = plt.subplot(gs[1], sharex=ax4)\n",
    "    ax1.hlines(1.0, wavelength_list[region_index][0], wavelength_list[region_index][-1], color='red', linestyles='-', \n",
    "                 lw=0.5,)\n",
    "    ax1.hlines(0, wavelength_list[region_index][0], wavelength_list[region_index][-1], color='black', \n",
    "                 lw=0.5,)\n",
    "    ax1.hlines(-1.0, wavelength_list[region_index][0], wavelength_list[region_index][-1], color='red', linestyles='-', \n",
    "                 lw=0.5,)\n",
    "    ax2.plot(wavelength_list[region_index], gen_data[region_index], label=\"Observed\",\n",
    "                 alpha=0.8,\n",
    "                 lw=1.5,\n",
    "            )\n",
    "    ax3.plot(wavelength_list[region_index], gen_data[region_index], label=\"Observed\", \n",
    "                 alpha=0.8,\n",
    "                 lw=1.5,\n",
    "            )\n",
    "    ax4.plot(wavelength_list[region_index], gen_data[region_index], label=\"Observed\", \n",
    "                 alpha=0.8,\n",
    "                 lw=1.5,\n",
    "            )\n",
    "    for observed_index, row in enumerate(true_component_parameters):\n",
    "        flux = absorb.find_tau(subwavelength_list[region_index], [row], atomDict, )[0]\n",
    "        flux = convolve.convolve_psf(VoigtAbsorption(co_add_from_subsample(flux)), estimated_instrument_profile)\n",
    "        if observed_index == 0:\n",
    "            ax3.plot(wavelength_list[region_index], flux, color=\"red\", label=\"actual-subcomponents\", \n",
    "                 lw=0.5,)\n",
    "        else:\n",
    "            ax3.plot(wavelength_list[region_index], flux, color=\"red\", \n",
    "                 lw=0.5,)\n",
    "    for trace_number, endstate in enumerate(full_model):\n",
    "        for final_index, row in enumerate(final_fit[trace_number][0]):\n",
    "            flux = absorb.find_tau(subwavelength_list[region_index], [row], atomDict, )[0]\n",
    "            flux = convolve.convolve_psf(VoigtAbsorption(co_add_from_subsample(flux)), estimated_instrument_profile)\n",
    "            if (final_index == 0) and (trace_number == 0):\n",
    "                ax4.plot(wavelength_list[region_index], flux, color=\"green\", label=\"fit-subcomponents\"\n",
    "                         , lw=0.5, alpha=0.1)\n",
    "            else:\n",
    "                ax4.plot(wavelength_list[region_index], flux, color=\"green\", lw=0.5, alpha=0.1)\n",
    "        ax1.plot(wavelength_list[region_index], (gen_data[region_index] - fit_flux[trace_number][region_index]['flux']) / onesigmaerror, \n",
    "                 lw=0.5,\n",
    "                 c='k'\n",
    "                )\n",
    "        ax2.plot(wavelength_list[region_index], fit_flux[trace_number][region_index]['flux'], color='black', \n",
    "                 alpha=0.1,\n",
    "                 lw=0.5,\n",
    "                )\n",
    "        ax3.plot(wavelength_list[region_index], fit_flux[trace_number][region_index]['flux'], color='black', \n",
    "                 lw=0.5,\n",
    "                 alpha=0.1,\n",
    "                )\n",
    "        ax4.plot(wavelength_list[region_index], fit_flux[trace_number][region_index]['flux'], color='black', \n",
    "                 lw=0.5,\n",
    "                 alpha=0.1,\n",
    "                )\n",
    "    box = ax1.get_position()\n",
    "    ax1.set_position([box.x0, box.y0, box.width * 0.8, box.height])\n",
    "    box = ax2.get_position()\n",
    "    ax2.set_position([box.x0, box.y0, box.width * 0.8, box.height])\n",
    "    ax2.legend(loc='center left', bbox_to_anchor=(1, 0.5))\n",
    "    box = ax3.get_position()\n",
    "    ax3.set_position([box.x0, box.y0, box.width * 0.8, box.height])\n",
    "    ax3.legend(loc='center left', bbox_to_anchor=(1, 0.5))\n",
    "    box = ax4.get_position()\n",
    "    ax4.set_position([box.x0, box.y0, box.width * 0.8, box.height])\n",
    "    ax4.legend(loc='center left', bbox_to_anchor=(1, 0.5))\n",
    "        \n",
    "    ax4.xaxis.set_major_formatter(x_formatter)\n",
    "    xticklabels = ax1.get_xticklabels() + ax2.get_xticklabels() + ax3.get_xticklabels()\n",
    "    ax4.set_xlabel(r\"Wavelength [$\\AA$]\")\n",
    "    ax1.set_ylabel(r\"Residuals [$\\sigma$]\")\n",
    "    ax2.set_ylabel(\"Normalized Flux\")\n",
    "    ax3.set_ylabel(\"Normalized Flux\")\n",
    "    ax4.set_ylabel(\"Normalized Flux\")\n",
    "    \n",
    "    plt.setp(xticklabels, visible=False)\n",
    "    f.tight_layout()\n",
    "    f.subplots_adjust(hspace=.10)\n",
    "    ax1.set_title(str(true_components) + \"/\" \n",
    "                  + str(fit_components) \n",
    "                  + \" true/fit\"\n",
    "                 )\n",
    "    pdf.savefig()\n",
    "    plt.close()\n",
    "pdf.close()\n"
   ]
  },
  {
   "cell_type": "code",
   "execution_count": 83,
   "metadata": {
    "collapsed": true
   },
   "outputs": [],
   "source": [
    "import time"
   ]
  },
  {
   "cell_type": "code",
   "execution_count": 86,
   "metadata": {
    "collapsed": false
   },
   "outputs": [
    {
     "ename": "KeyboardInterrupt",
     "evalue": "",
     "output_type": "error",
     "traceback": [
      "\u001b[0;31m---------------------------------------------------------------------\u001b[0m",
      "\u001b[0;31mKeyboardInterrupt\u001b[0m                   Traceback (most recent call last)",
      "\u001b[0;32m<ipython-input-86-b9df7566e20c>\u001b[0m in \u001b[0;36m<module>\u001b[0;34m()\u001b[0m\n\u001b[1;32m    108\u001b[0m         \u001b[0mplt\u001b[0m\u001b[0;34m.\u001b[0m\u001b[0mclose\u001b[0m\u001b[0;34m(\u001b[0m\u001b[0;34m)\u001b[0m\u001b[0;34m\u001b[0m\u001b[0m\n\u001b[1;32m    109\u001b[0m     \u001b[0mpdf\u001b[0m\u001b[0;34m.\u001b[0m\u001b[0mclose\u001b[0m\u001b[0;34m(\u001b[0m\u001b[0;34m)\u001b[0m\u001b[0;34m\u001b[0m\u001b[0m\n\u001b[0;32m--> 110\u001b[0;31m     \u001b[0mtime\u001b[0m\u001b[0;34m.\u001b[0m\u001b[0msleep\u001b[0m\u001b[0;34m(\u001b[0m\u001b[0;36m3600\u001b[0m\u001b[0;34m)\u001b[0m\u001b[0;34m\u001b[0m\u001b[0m\n\u001b[0m",
      "\u001b[0;31mKeyboardInterrupt\u001b[0m: "
     ]
    }
   ],
   "source": [
    "for asdf in range(24):\n",
    "    !tail -n 120 chain.dat > current.dat\n",
    "    full_model = read_chain(\"current.dat\")\n",
    "    trace_dict = []\n",
    "    fit_flux = {}\n",
    "    final_fit = {}\n",
    "\n",
    "    for trace_number, endstate in enumerate(full_model):\n",
    "        final_fit[trace_number] = []\n",
    "        final_fit[trace_number].append([['FeII'] + x for x in list([np.array(blah) \n",
    "                                                                    for blah in endstate[[ x+2, x+1, x,]]] \n",
    "                                                                       for x in xrange(0, len(endstate), 3))])\n",
    "        fit_flux[trace_number] = {}\n",
    "        for region_index, region_wavelength in enumerate(wavelength_list):\n",
    "            fit_flux[trace_number][region_index] = {}\n",
    "            flux = absorb.find_tau(subwavelength_list[region_index], final_fit[trace_number][0], atomDict, )[0]\n",
    "            fit_flux[trace_number][region_index]['flux'] = co_add_from_subsample(convolve.convolve_psf(VoigtAbsorption(flux),\n",
    "                                                                                         estimated_instrument_profile))\n",
    "        trace_dict.append(fit_flux)\n",
    "    pdf = PdfPages(datetime.datetime.now().strftime(\"%Y-%m-%d_%H.%M.%S.flux\") + \".pdf\")\n",
    "    for region_index, region_wavelength in enumerate(wavelength_list):\n",
    "        f = plt.figure(figsize=(16, 12))\n",
    "        gs = GridSpec(4, 1, height_ratios=[1, 2, 2, 2])\n",
    "        ax4 = plt.subplot(gs[3])\n",
    "        ax3 = plt.subplot(gs[2], sharex=ax4)\n",
    "        ax1 = plt.subplot(gs[0], sharex=ax4)\n",
    "        ax2 = plt.subplot(gs[1], sharex=ax4)\n",
    "        ax1.hlines(1.0, wavelength_list[region_index][0], wavelength_list[region_index][-1], color='red', linestyles='-', \n",
    "                     lw=0.5,)\n",
    "        ax1.hlines(0, wavelength_list[region_index][0], wavelength_list[region_index][-1], color='black', \n",
    "                     lw=0.5,)\n",
    "        ax1.hlines(-1.0, wavelength_list[region_index][0], wavelength_list[region_index][-1], color='red', linestyles='-', \n",
    "                     lw=0.5,)\n",
    "        ax2.plot(wavelength_list[region_index], gen_data[region_index], label=\"Observed\",\n",
    "                     alpha=0.8,\n",
    "                     lw=1.5,\n",
    "                )\n",
    "        ax3.plot(wavelength_list[region_index], gen_data[region_index], label=\"Observed\", \n",
    "                     alpha=0.8,\n",
    "                     lw=1.5,\n",
    "                )\n",
    "        ax4.plot(wavelength_list[region_index], gen_data[region_index], label=\"Observed\", \n",
    "                     alpha=0.8,\n",
    "                     lw=1.5,\n",
    "                )\n",
    "        for observed_index, row in enumerate(true_component_parameters):\n",
    "            flux = absorb.find_tau(subwavelength_list[region_index], [row], atomDict, )[0]\n",
    "            flux = convolve.convolve_psf(VoigtAbsorption(co_add_from_subsample(flux)), estimated_instrument_profile)\n",
    "            if observed_index == 0:\n",
    "                ax3.plot(wavelength_list[region_index], flux, color=\"red\", label=\"actual-subcomponents\", \n",
    "                     lw=0.5,)\n",
    "            else:\n",
    "                ax3.plot(wavelength_list[region_index], flux, color=\"red\", \n",
    "                     lw=0.5,)\n",
    "        for trace_number, endstate in enumerate(full_model):\n",
    "            for final_index, row in enumerate(final_fit[trace_number][0]):\n",
    "                flux = absorb.find_tau(subwavelength_list[region_index], [row], atomDict, )[0]\n",
    "                flux = convolve.convolve_psf(VoigtAbsorption(co_add_from_subsample(flux)), estimated_instrument_profile)\n",
    "                if (final_index == 0) and (trace_number == 0):\n",
    "                    ax4.plot(wavelength_list[region_index], flux, color=\"green\", label=\"fit-subcomponents\"\n",
    "                             , lw=0.5, alpha=0.1)\n",
    "                else:\n",
    "                    ax4.plot(wavelength_list[region_index], flux, color=\"green\", lw=0.5, alpha=0.1)\n",
    "            ax1.plot(wavelength_list[region_index], (gen_data[region_index] - fit_flux[trace_number][region_index]['flux']) / onesigmaerror, \n",
    "                     lw=0.5,\n",
    "                     c='k'\n",
    "                    )\n",
    "            ax2.plot(wavelength_list[region_index], fit_flux[trace_number][region_index]['flux'], color='black', \n",
    "                     alpha=0.1,\n",
    "                     lw=0.5,\n",
    "                    )\n",
    "            ax3.plot(wavelength_list[region_index], fit_flux[trace_number][region_index]['flux'], color='black', \n",
    "                     lw=0.5,\n",
    "                     alpha=0.1,\n",
    "                    )\n",
    "            ax4.plot(wavelength_list[region_index], fit_flux[trace_number][region_index]['flux'], color='black', \n",
    "                     lw=0.5,\n",
    "                     alpha=0.1,\n",
    "                    )\n",
    "        box = ax1.get_position()\n",
    "        ax1.set_position([box.x0, box.y0, box.width * 0.8, box.height])\n",
    "        box = ax2.get_position()\n",
    "        ax2.set_position([box.x0, box.y0, box.width * 0.8, box.height])\n",
    "        ax2.legend(loc='center left', bbox_to_anchor=(1, 0.5))\n",
    "        box = ax3.get_position()\n",
    "        ax3.set_position([box.x0, box.y0, box.width * 0.8, box.height])\n",
    "        ax3.legend(loc='center left', bbox_to_anchor=(1, 0.5))\n",
    "        box = ax4.get_position()\n",
    "        ax4.set_position([box.x0, box.y0, box.width * 0.8, box.height])\n",
    "        ax4.legend(loc='center left', bbox_to_anchor=(1, 0.5))\n",
    "\n",
    "        ax4.xaxis.set_major_formatter(x_formatter)\n",
    "        xticklabels = ax1.get_xticklabels() + ax2.get_xticklabels() + ax3.get_xticklabels()\n",
    "        ax4.set_xlabel(r\"Wavelength [$\\AA$]\")\n",
    "        ax1.set_ylabel(r\"Residuals [$\\sigma$]\")\n",
    "        ax2.set_ylabel(\"Normalized Flux\")\n",
    "        ax3.set_ylabel(\"Normalized Flux\")\n",
    "        ax4.set_ylabel(\"Normalized Flux\")\n",
    "\n",
    "        plt.setp(xticklabels, visible=False)\n",
    "        f.tight_layout()\n",
    "        f.subplots_adjust(hspace=.10)\n",
    "        ax1.set_title(str(true_components) + \"/\" \n",
    "                      + str(fit_components) \n",
    "                      + \" true/fit\"\n",
    "                     )\n",
    "        pdf.savefig()\n",
    "        plt.close()\n",
    "    pdf.close()\n",
    "    time.sleep(3600)\n"
   ]
  },
  {
   "cell_type": "code",
   "execution_count": null,
   "metadata": {
    "collapsed": true
   },
   "outputs": [],
   "source": []
  },
  {
   "cell_type": "code",
   "execution_count": null,
   "metadata": {
    "collapsed": true
   },
   "outputs": [],
   "source": []
  },
  {
   "cell_type": "code",
   "execution_count": null,
   "metadata": {
    "collapsed": true
   },
   "outputs": [],
   "source": []
  },
  {
   "cell_type": "code",
   "execution_count": null,
   "metadata": {
    "collapsed": true
   },
   "outputs": [],
   "source": []
  },
  {
   "cell_type": "code",
   "execution_count": null,
   "metadata": {
    "collapsed": true
   },
   "outputs": [],
   "source": []
  },
  {
   "cell_type": "code",
   "execution_count": null,
   "metadata": {
    "collapsed": true
   },
   "outputs": [],
   "source": []
  },
  {
   "cell_type": "code",
   "execution_count": null,
   "metadata": {
    "collapsed": true
   },
   "outputs": [],
   "source": []
  },
  {
   "cell_type": "code",
   "execution_count": null,
   "metadata": {
    "collapsed": true
   },
   "outputs": [],
   "source": []
  },
  {
   "cell_type": "code",
   "execution_count": null,
   "metadata": {
    "collapsed": true
   },
   "outputs": [],
   "source": []
  },
  {
   "cell_type": "code",
   "execution_count": null,
   "metadata": {
    "collapsed": true
   },
   "outputs": [],
   "source": []
  },
  {
   "cell_type": "code",
   "execution_count": null,
   "metadata": {
    "collapsed": true
   },
   "outputs": [],
   "source": []
  },
  {
   "cell_type": "code",
   "execution_count": null,
   "metadata": {
    "collapsed": true
   },
   "outputs": [],
   "source": []
  },
  {
   "cell_type": "code",
   "execution_count": null,
   "metadata": {
    "collapsed": true
   },
   "outputs": [],
   "source": []
  }
 ],
 "metadata": {
  "kernelspec": {
   "display_name": "Python 2",
   "language": "python",
   "name": "python2"
  },
  "language_info": {
   "codemirror_mode": {
    "name": "ipython",
    "version": 2
   },
   "file_extension": ".py",
   "mimetype": "text/x-python",
   "name": "python",
   "nbconvert_exporter": "python",
   "pygments_lexer": "ipython2",
   "version": "2.7.12"
  }
 },
 "nbformat": 4,
 "nbformat_minor": 0
}
